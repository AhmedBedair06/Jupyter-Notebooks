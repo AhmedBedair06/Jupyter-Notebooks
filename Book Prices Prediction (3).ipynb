{
 "cells": [
  {
   "cell_type": "markdown",
   "id": "c92a9215",
   "metadata": {},
   "source": [
    "# Book Prices Prediction (CAT DS Hackathon) 📚\n",
    "In this notebook we used the proper steps to wrangle,analyse, and clean the book prices dataset in order to develop<br>\n",
    "a machine learning model that is able to accurately predict book prices.\n",
    "\n",
    "## Dataset description:\n",
    "This dataset contains information about various features of different books in comparison to their prices."
   ]
  },
  {
   "cell_type": "markdown",
   "id": "1cffccb5",
   "metadata": {},
   "source": [
    "### Importing Libraries & Reading Data"
   ]
  },
  {
   "cell_type": "code",
   "execution_count": 1,
   "id": "4916e170",
   "metadata": {},
   "outputs": [],
   "source": [
    "import numpy as np\n",
    "import pandas as pd\n",
    "\n",
    "import matplotlib.pyplot as plt\n",
    "%matplotlib inline\n",
    "import seaborn as sns\n",
    "\n",
    "from sklearn.model_selection import cross_val_score\n",
    "from sklearn import preprocessing\n",
    "\n",
    "from sklearn.preprocessing import LabelEncoder\n",
    "\n",
    "import warnings\n",
    "warnings.simplefilter(\"ignore\")\n",
    "\n",
    "from sklearn.linear_model import RidgeCV\n",
    "from sklearn.linear_model import LassoCV\n",
    "from sklearn.tree import DecisionTreeRegressor\n",
    "from sklearn.neighbors import KNeighborsRegressor\n",
    "from sklearn.ensemble import RandomForestRegressor\n",
    "from sklearn.ensemble import GradientBoostingRegressor\n",
    "from sklearn.linear_model import LinearRegression"
   ]
  },
  {
   "cell_type": "code",
   "execution_count": 2,
   "id": "98a187ed",
   "metadata": {},
   "outputs": [],
   "source": [
    "train = pd.read_csv('train_dataset.csv')\n",
    "test = pd.read_csv('test_dataset.csv')\n",
    "\n",
    "ID = test['ID']"
   ]
  },
  {
   "cell_type": "markdown",
   "id": "1de75ecc",
   "metadata": {},
   "source": [
    "## Data Wrangling 🔍"
   ]
  },
  {
   "cell_type": "code",
   "execution_count": 3,
   "id": "3a83f62a",
   "metadata": {},
   "outputs": [
    {
     "data": {
      "text/html": [
       "<div>\n",
       "<style scoped>\n",
       "    .dataframe tbody tr th:only-of-type {\n",
       "        vertical-align: middle;\n",
       "    }\n",
       "\n",
       "    .dataframe tbody tr th {\n",
       "        vertical-align: top;\n",
       "    }\n",
       "\n",
       "    .dataframe thead th {\n",
       "        text-align: right;\n",
       "    }\n",
       "</style>\n",
       "<table border=\"1\" class=\"dataframe\">\n",
       "  <thead>\n",
       "    <tr style=\"text-align: right;\">\n",
       "      <th></th>\n",
       "      <th>Title</th>\n",
       "      <th>Author</th>\n",
       "      <th>Edition</th>\n",
       "      <th>Reviews</th>\n",
       "      <th>Ratings</th>\n",
       "      <th>Synopsis</th>\n",
       "      <th>Genre</th>\n",
       "      <th>BookCategory</th>\n",
       "      <th>Price</th>\n",
       "    </tr>\n",
       "  </thead>\n",
       "  <tbody>\n",
       "    <tr>\n",
       "      <th>0</th>\n",
       "      <td>Jesse James (Lucky Luke)</td>\n",
       "      <td>Rene Goscinny, Jean Tarbary</td>\n",
       "      <td>Paperback,– Import, 1 Apr 2008</td>\n",
       "      <td>5.0 out of 5 stars</td>\n",
       "      <td>1 customer review</td>\n",
       "      <td>Cowboy Lucky Luke upholds the law of the Wild ...</td>\n",
       "      <td>Comics &amp; Mangas (Books)</td>\n",
       "      <td>Comics &amp; Mangas</td>\n",
       "      <td>2.292</td>\n",
       "    </tr>\n",
       "    <tr>\n",
       "      <th>1</th>\n",
       "      <td>A Storm of Swords 2: Blood and Gold (A Song of...</td>\n",
       "      <td>George R. R. Martin</td>\n",
       "      <td>Paperback,– 27 Mar 2014</td>\n",
       "      <td>4.5 out of 5 stars</td>\n",
       "      <td>474 customer reviews</td>\n",
       "      <td>HBO’s hit series A GAME OF THRONES is based on...</td>\n",
       "      <td>Action &amp; Adventure (Books)</td>\n",
       "      <td>Crime, Thriller &amp; Mystery</td>\n",
       "      <td>4.800</td>\n",
       "    </tr>\n",
       "    <tr>\n",
       "      <th>2</th>\n",
       "      <td>Mastering Copperplate Calligraphy (Lettering, ...</td>\n",
       "      <td>Eleanor Winters</td>\n",
       "      <td>Paperback,– 28 May 2000</td>\n",
       "      <td>4.9 out of 5 stars</td>\n",
       "      <td>15 customer reviews</td>\n",
       "      <td>Developed by English handwriting masters in th...</td>\n",
       "      <td>Handicrafts, Decorative Arts &amp; Crafts (Books)</td>\n",
       "      <td>Arts, Film &amp; Photography</td>\n",
       "      <td>10.500</td>\n",
       "    </tr>\n",
       "    <tr>\n",
       "      <th>3</th>\n",
       "      <td>I Am Zlatan Ibrahimovic</td>\n",
       "      <td>Zlatan Ibrahimovic</td>\n",
       "      <td>Paperback,– 24 Sep 2013</td>\n",
       "      <td>4.8 out of 5 stars</td>\n",
       "      <td>52 customer reviews</td>\n",
       "      <td>I AM ZLATAN - the explosive, critically-acclai...</td>\n",
       "      <td>Biographies &amp; Autobiographies (Books)</td>\n",
       "      <td>Sports</td>\n",
       "      <td>5.520</td>\n",
       "    </tr>\n",
       "    <tr>\n",
       "      <th>4</th>\n",
       "      <td>Bought For The Billionaire's Revenge (Modern)</td>\n",
       "      <td>Connelly Clare</td>\n",
       "      <td>Paperback,– 28 Jul 2017</td>\n",
       "      <td>4.5 out of 5 stars</td>\n",
       "      <td>2 customer reviews</td>\n",
       "      <td>Sold to the ruthless tycoon!\\n\\nInnocent socia...</td>\n",
       "      <td>Romance (Books)</td>\n",
       "      <td>Romance</td>\n",
       "      <td>4.776</td>\n",
       "    </tr>\n",
       "  </tbody>\n",
       "</table>\n",
       "</div>"
      ],
      "text/plain": [
       "                                               Title  \\\n",
       "0                           Jesse James (Lucky Luke)   \n",
       "1  A Storm of Swords 2: Blood and Gold (A Song of...   \n",
       "2  Mastering Copperplate Calligraphy (Lettering, ...   \n",
       "3                            I Am Zlatan Ibrahimovic   \n",
       "4      Bought For The Billionaire's Revenge (Modern)   \n",
       "\n",
       "                        Author                         Edition  \\\n",
       "0  Rene Goscinny, Jean Tarbary  Paperback,– Import, 1 Apr 2008   \n",
       "1          George R. R. Martin         Paperback,– 27 Mar 2014   \n",
       "2              Eleanor Winters         Paperback,– 28 May 2000   \n",
       "3           Zlatan Ibrahimovic         Paperback,– 24 Sep 2013   \n",
       "4               Connelly Clare         Paperback,– 28 Jul 2017   \n",
       "\n",
       "              Reviews               Ratings  \\\n",
       "0  5.0 out of 5 stars     1 customer review   \n",
       "1  4.5 out of 5 stars  474 customer reviews   \n",
       "2  4.9 out of 5 stars   15 customer reviews   \n",
       "3  4.8 out of 5 stars   52 customer reviews   \n",
       "4  4.5 out of 5 stars    2 customer reviews   \n",
       "\n",
       "                                            Synopsis  \\\n",
       "0  Cowboy Lucky Luke upholds the law of the Wild ...   \n",
       "1  HBO’s hit series A GAME OF THRONES is based on...   \n",
       "2  Developed by English handwriting masters in th...   \n",
       "3  I AM ZLATAN - the explosive, critically-acclai...   \n",
       "4  Sold to the ruthless tycoon!\\n\\nInnocent socia...   \n",
       "\n",
       "                                           Genre               BookCategory  \\\n",
       "0                        Comics & Mangas (Books)            Comics & Mangas   \n",
       "1                     Action & Adventure (Books)  Crime, Thriller & Mystery   \n",
       "2  Handicrafts, Decorative Arts & Crafts (Books)   Arts, Film & Photography   \n",
       "3          Biographies & Autobiographies (Books)                     Sports   \n",
       "4                                Romance (Books)                    Romance   \n",
       "\n",
       "    Price  \n",
       "0   2.292  \n",
       "1   4.800  \n",
       "2  10.500  \n",
       "3   5.520  \n",
       "4   4.776  "
      ]
     },
     "execution_count": 3,
     "metadata": {},
     "output_type": "execute_result"
    }
   ],
   "source": [
    "train.head()  #Inspect data"
   ]
  },
  {
   "cell_type": "code",
   "execution_count": 4,
   "id": "d74f7201",
   "metadata": {},
   "outputs": [
    {
     "data": {
      "text/plain": [
       "(6823, 9)"
      ]
     },
     "execution_count": 4,
     "metadata": {},
     "output_type": "execute_result"
    }
   ],
   "source": [
    "train.shape  #Inspect dimensions"
   ]
  },
  {
   "cell_type": "code",
   "execution_count": 5,
   "id": "14532b81",
   "metadata": {},
   "outputs": [
    {
     "name": "stdout",
     "output_type": "stream",
     "text": [
      "<class 'pandas.core.frame.DataFrame'>\n",
      "RangeIndex: 6823 entries, 0 to 6822\n",
      "Data columns (total 9 columns):\n",
      " #   Column        Non-Null Count  Dtype  \n",
      "---  ------        --------------  -----  \n",
      " 0   Title         6822 non-null   object \n",
      " 1   Author        6822 non-null   object \n",
      " 2   Edition       6823 non-null   object \n",
      " 3   Reviews       6823 non-null   object \n",
      " 4   Ratings       6823 non-null   object \n",
      " 5   Synopsis      5808 non-null   object \n",
      " 6   Genre         6822 non-null   object \n",
      " 7   BookCategory  6419 non-null   object \n",
      " 8   Price         6823 non-null   float64\n",
      "dtypes: float64(1), object(8)\n",
      "memory usage: 479.9+ KB\n"
     ]
    }
   ],
   "source": [
    "train.info() #inspect info"
   ]
  },
  {
   "cell_type": "code",
   "execution_count": 6,
   "id": "d5ce375e",
   "metadata": {},
   "outputs": [
    {
     "data": {
      "text/html": [
       "<div>\n",
       "<style scoped>\n",
       "    .dataframe tbody tr th:only-of-type {\n",
       "        vertical-align: middle;\n",
       "    }\n",
       "\n",
       "    .dataframe tbody tr th {\n",
       "        vertical-align: top;\n",
       "    }\n",
       "\n",
       "    .dataframe thead th {\n",
       "        text-align: right;\n",
       "    }\n",
       "</style>\n",
       "<table border=\"1\" class=\"dataframe\">\n",
       "  <thead>\n",
       "    <tr style=\"text-align: right;\">\n",
       "      <th></th>\n",
       "      <th>Price</th>\n",
       "    </tr>\n",
       "  </thead>\n",
       "  <tbody>\n",
       "    <tr>\n",
       "      <th>count</th>\n",
       "      <td>6823.000000</td>\n",
       "    </tr>\n",
       "    <tr>\n",
       "      <th>mean</th>\n",
       "      <td>13.471419</td>\n",
       "    </tr>\n",
       "    <tr>\n",
       "      <th>std</th>\n",
       "      <td>25.174514</td>\n",
       "    </tr>\n",
       "    <tr>\n",
       "      <th>min</th>\n",
       "      <td>0.000000</td>\n",
       "    </tr>\n",
       "    <tr>\n",
       "      <th>25%</th>\n",
       "      <td>3.588000</td>\n",
       "    </tr>\n",
       "    <tr>\n",
       "      <th>50%</th>\n",
       "      <td>5.868000</td>\n",
       "    </tr>\n",
       "    <tr>\n",
       "      <th>75%</th>\n",
       "      <td>13.465000</td>\n",
       "    </tr>\n",
       "    <tr>\n",
       "      <th>max</th>\n",
       "      <td>886.080000</td>\n",
       "    </tr>\n",
       "  </tbody>\n",
       "</table>\n",
       "</div>"
      ],
      "text/plain": [
       "             Price\n",
       "count  6823.000000\n",
       "mean     13.471419\n",
       "std      25.174514\n",
       "min       0.000000\n",
       "25%       3.588000\n",
       "50%       5.868000\n",
       "75%      13.465000\n",
       "max     886.080000"
      ]
     },
     "execution_count": 6,
     "metadata": {},
     "output_type": "execute_result"
    }
   ],
   "source": [
    "train.describe() #inspect numeric columns"
   ]
  },
  {
   "cell_type": "code",
   "execution_count": 7,
   "id": "cdfc0ab1",
   "metadata": {},
   "outputs": [
    {
     "data": {
      "text/plain": [
       "Title              1\n",
       "Author             1\n",
       "Edition            0\n",
       "Reviews            0\n",
       "Ratings            0\n",
       "Synopsis        1015\n",
       "Genre              1\n",
       "BookCategory     404\n",
       "Price              0\n",
       "dtype: int64"
      ]
     },
     "execution_count": 7,
     "metadata": {},
     "output_type": "execute_result"
    }
   ],
   "source": [
    "train.isna().sum() #Inspect No. of nan values"
   ]
  },
  {
   "cell_type": "code",
   "execution_count": 8,
   "id": "a408fe0a",
   "metadata": {},
   "outputs": [
    {
     "data": {
      "text/plain": [
       "205"
      ]
     },
     "execution_count": 8,
     "metadata": {},
     "output_type": "execute_result"
    }
   ],
   "source": [
    "train.duplicated().sum() #Inspect No. of duplicates"
   ]
  },
  {
   "cell_type": "code",
   "execution_count": 9,
   "id": "99e289ec",
   "metadata": {},
   "outputs": [
    {
     "data": {
      "text/plain": [
       "Title            object\n",
       "Author           object\n",
       "Edition          object\n",
       "Reviews          object\n",
       "Ratings          object\n",
       "Synopsis         object\n",
       "Genre            object\n",
       "BookCategory     object\n",
       "Price           float64\n",
       "dtype: object"
      ]
     },
     "execution_count": 9,
     "metadata": {},
     "output_type": "execute_result"
    }
   ],
   "source": [
    "train.dtypes #Inspect Datatypes"
   ]
  },
  {
   "cell_type": "markdown",
   "id": "320d1b65",
   "metadata": {},
   "source": [
    "### Wrangling Conclusion :\n",
    "- **Title** and **Synopsis** columns are to be removed.\n",
    "- Too many unique values in **Authors** column. Could be minimized.\n",
    "- Should Extract type of cover and year of release from **Edition** column.\n",
    "- Should Extract No. of stars in **Reviews** column and turn datatype to float.\n",
    "- Should Extract No. of reviews in **Ratings** column and turn datatype to int.\n",
    "- Should Extract (Book) from each value from **Genre** column.\n",
    "- **Price** column contains outliers.\n",
    "- 204 pure duplicates, must be removed.\n",
    "- All data types are object."
   ]
  },
  {
   "cell_type": "markdown",
   "id": "c9bd59ad",
   "metadata": {},
   "source": [
    "## Data Cleaning (Train) 🧹"
   ]
  },
  {
   "cell_type": "code",
   "execution_count": 10,
   "id": "75679d6b",
   "metadata": {},
   "outputs": [],
   "source": [
    "train.drop(['Title','Synopsis'],axis =1,inplace = True) #Drop useless columns"
   ]
  },
  {
   "cell_type": "code",
   "execution_count": 11,
   "id": "f41a65dc",
   "metadata": {},
   "outputs": [],
   "source": [
    "train.drop_duplicates(inplace = True) #Drop duplicates"
   ]
  },
  {
   "cell_type": "markdown",
   "id": "7756247f",
   "metadata": {},
   "source": [
    "### Cleaning 'Author' column"
   ]
  },
  {
   "cell_type": "code",
   "execution_count": 12,
   "id": "965d8538",
   "metadata": {},
   "outputs": [],
   "source": [
    "train['Author'] = train['Author'].astype(str)             #Turn columns to suitable datatype\n",
    "train['Genre'] = train['Genre'].astype(str)\n",
    "train['BookCategory'] = train['BookCategory'].astype(str)"
   ]
  },
  {
   "cell_type": "code",
   "execution_count": 13,
   "id": "475a0ce1",
   "metadata": {},
   "outputs": [],
   "source": [
    "auth_prc = pd.DataFrame(train.groupby('Author')['Price'].mean())  #Create dataframe with mean price of each author"
   ]
  },
  {
   "cell_type": "code",
   "execution_count": 14,
   "id": "6dc01b2c",
   "metadata": {},
   "outputs": [
    {
     "name": "stdout",
     "output_type": "stream",
     "text": [
      "3.588 5.535 10.8645\n"
     ]
    }
   ],
   "source": [
    "mean_prc = auth_prc['Price']\n",
    "mean_prc_q1 = mean_prc.quantile(0.25)    #Created quantiles to split author based on them\n",
    "mean_prc_q2 = mean_prc.quantile(0.5)\n",
    "mean_prc_q3 = mean_prc.quantile(0.75)\n",
    "\n",
    "print(mean_prc_q1,mean_prc_q2,mean_prc_q3)"
   ]
  },
  {
   "cell_type": "code",
   "execution_count": 15,
   "id": "f56bc055",
   "metadata": {},
   "outputs": [],
   "source": [
    "ranges = [0,mean_prc_q1,mean_prc_q3,np.inf]\n",
    "categories = [0,1,2]                        #Split authors based on quantiles with ordinal encoding\n",
    "\n",
    "auth_prc['Category'] = pd.cut(auth_prc['Price'], bins = ranges, labels = categories)\n",
    "auth_prc.drop('Price',axis =1,inplace = True)"
   ]
  },
  {
   "cell_type": "code",
   "execution_count": 16,
   "id": "f7f58e84",
   "metadata": {},
   "outputs": [],
   "source": [
    "auth_prc = auth_prc.squeeze() #Turn dataframe to series"
   ]
  },
  {
   "cell_type": "code",
   "execution_count": 17,
   "id": "a04da4ce",
   "metadata": {},
   "outputs": [],
   "source": [
    "train['Author'] = train['Author'].map(auth_prc) #Mapped encodings to authors in original data"
   ]
  },
  {
   "cell_type": "code",
   "execution_count": 18,
   "id": "3011454d",
   "metadata": {},
   "outputs": [],
   "source": [
    "train['Author'].fillna(train['Author'].mode()[0],inplace =True) #Fill nan values with the mode"
   ]
  },
  {
   "cell_type": "code",
   "execution_count": 19,
   "id": "e3c23123",
   "metadata": {},
   "outputs": [],
   "source": [
    "train.drop(train.tail(199).index,inplace=True) #Remove redundant data"
   ]
  },
  {
   "cell_type": "markdown",
   "id": "fbe787f8",
   "metadata": {},
   "source": [
    "### Splitting 'Edition' column to 'Cover' & 'Date' Columns"
   ]
  },
  {
   "cell_type": "code",
   "execution_count": 20,
   "id": "77a40518",
   "metadata": {},
   "outputs": [],
   "source": [
    "years_short = ['Jan', 'Feb', 'Mar', 'Apr', 'May', 'Jun','Jul','Aug','Sep','Oct','Nov', 'Dec']\n",
    "train['Edition'] = train.Edition.astype(str)\n",
    "\n",
    "for index, entrie in enumerate(train['Edition']):\n",
    "    koro = entrie.split(',– ')[0].split(',- ')         #Extract Cover from Edition column\n",
    "    if len(koro) == 1: \n",
    "        if koro[0][0:3] in years_short:\n",
    "            train.loc[index, 'Cover'] = np.nan\n",
    "            \n",
    "        else:\n",
    "            train.loc[index, 'Cover'] = koro[0]\n",
    "    else:\n",
    "        train.loc[index, 'Cover'] = koro[0]"
   ]
  },
  {
   "cell_type": "code",
   "execution_count": 21,
   "id": "8395a2e0",
   "metadata": {},
   "outputs": [],
   "source": [
    "train.drop(train.tail(199).index,inplace=True)  #Remove redundant data"
   ]
  },
  {
   "cell_type": "code",
   "execution_count": 22,
   "id": "c3ef9791",
   "metadata": {},
   "outputs": [],
   "source": [
    "train['Cover'].fillna(train['Cover'].mode()[0],inplace=True)  #Fill nan values with the mode "
   ]
  },
  {
   "cell_type": "code",
   "execution_count": 23,
   "id": "6b09a050",
   "metadata": {},
   "outputs": [],
   "source": [
    "train['Date'] = np.nan                      #Extract Date from Edition column\n",
    "\n",
    "for index, entrie in enumerate(train['Edition'].str.split('Paperback')):\n",
    "    train['Date'][index] = entrie[-1].split(\",\")[-1].split('– ')[-1][-4:]"
   ]
  },
  {
   "cell_type": "code",
   "execution_count": 24,
   "id": "a2de8aa3",
   "metadata": {},
   "outputs": [],
   "source": [
    "train['Date'] = pd.to_numeric(train['Date'], errors='coerce', downcast='integer') #Turn Date column to suitable datatype"
   ]
  },
  {
   "cell_type": "code",
   "execution_count": 25,
   "id": "11536309",
   "metadata": {},
   "outputs": [],
   "source": [
    "train.loc[train['Date'] < 1800.0,'Date'] = None  #Removed Outliers"
   ]
  },
  {
   "cell_type": "code",
   "execution_count": 26,
   "id": "848ea6ad",
   "metadata": {},
   "outputs": [],
   "source": [
    "train['Date'].fillna(train['Date'].mode()[0],inplace = True) #Fill nan values with the mode"
   ]
  },
  {
   "cell_type": "code",
   "execution_count": 27,
   "id": "6a975c44",
   "metadata": {
    "scrolled": true
   },
   "outputs": [
    {
     "data": {
      "text/plain": [
       "array([2008., 2014., 2000., 2013., 2017., 2016., 2012., 2018., 2007.,\n",
       "       2019., 2011., 2003., 1999., 2009., 2015., 2010., 2002., 2006.,\n",
       "       1992., 1998., 2005., 2021., 1990., 1982., 2001., 1971., 2020.,\n",
       "       1991., 1995., 1985., 1969., 1986., 1989., 1994., 1996., 1979.,\n",
       "       1997., 2004., 1993., 1983., 1988., 1977., 1987., 1975., 1974.,\n",
       "       1964., 1978., 1984., 1976., 1961., 1980., 1970., 1900., 1981.,\n",
       "       1973., 1925., 1960.])"
      ]
     },
     "execution_count": 27,
     "metadata": {},
     "output_type": "execute_result"
    }
   ],
   "source": [
    "train['Date'].unique() #Inspect Unique values"
   ]
  },
  {
   "cell_type": "markdown",
   "id": "2691d568",
   "metadata": {},
   "source": [
    "### Cleaning 'Reviews' column"
   ]
  },
  {
   "cell_type": "code",
   "execution_count": 28,
   "id": "9f9f8634",
   "metadata": {},
   "outputs": [],
   "source": [
    "train['Reviews']= train['Reviews'].str[:3] #Extract No. of stars from the column"
   ]
  },
  {
   "cell_type": "code",
   "execution_count": 29,
   "id": "9c0e5596",
   "metadata": {},
   "outputs": [
    {
     "data": {
      "text/plain": [
       "0    5.0\n",
       "1    4.5\n",
       "2    4.9\n",
       "3    4.8\n",
       "4    4.5\n",
       "Name: Reviews, dtype: object"
      ]
     },
     "execution_count": 29,
     "metadata": {},
     "output_type": "execute_result"
    }
   ],
   "source": [
    "train['Reviews'].head() #Inspect data"
   ]
  },
  {
   "cell_type": "code",
   "execution_count": 30,
   "id": "8e2960de",
   "metadata": {},
   "outputs": [],
   "source": [
    "train['Reviews'] = train['Reviews'].astype(float) #Turn column to suitable datatype"
   ]
  },
  {
   "cell_type": "code",
   "execution_count": 31,
   "id": "ec47b843",
   "metadata": {},
   "outputs": [
    {
     "data": {
      "text/plain": [
       "47"
      ]
     },
     "execution_count": 31,
     "metadata": {},
     "output_type": "execute_result"
    }
   ],
   "source": [
    "train['Reviews'].isna().sum() #Inspect nan values"
   ]
  },
  {
   "cell_type": "code",
   "execution_count": 32,
   "id": "2da6cb64",
   "metadata": {},
   "outputs": [
    {
     "data": {
      "image/png": "[encoded data removed]",
      "text/plain": [
       "<Figure size 1080x576 with 1 Axes>"
      ]
     },
     "metadata": {
      "needs_background": "light"
     },
     "output_type": "display_data"
    }
   ],
   "source": [
    "plt.figure(figsize=(15,8))  #Inspect distribution\n",
    "sns.kdeplot(x= 'Reviews',data = train);"
   ]
  },
  {
   "cell_type": "markdown",
   "id": "e8200a9b",
   "metadata": {},
   "source": [
    "**The distribution is severely left skewed so the missing values should be replaced with the median.**"
   ]
  },
  {
   "cell_type": "code",
   "execution_count": 33,
   "id": "949a50e8",
   "metadata": {},
   "outputs": [],
   "source": [
    "train['Reviews'].fillna(train['Reviews'].median(),inplace = True)"
   ]
  },
  {
   "cell_type": "markdown",
   "id": "f15c2255",
   "metadata": {},
   "source": [
    "### Cleaning 'Ratings' column"
   ]
  },
  {
   "cell_type": "code",
   "execution_count": 34,
   "id": "10306aa7",
   "metadata": {},
   "outputs": [],
   "source": [
    "train['Ratings'] = train['Ratings'].str.extract('(\\d+)') #Extract No. of reviews from the column"
   ]
  },
  {
   "cell_type": "code",
   "execution_count": 35,
   "id": "ce7034a9",
   "metadata": {},
   "outputs": [],
   "source": [
    "train['Ratings'] = pd.to_numeric(train['Ratings'], errors='coerce', downcast='integer') #Turn column to suitable datatype"
   ]
  },
  {
   "cell_type": "code",
   "execution_count": 36,
   "id": "d7329586",
   "metadata": {},
   "outputs": [
    {
     "data": {
      "text/plain": [
       "47"
      ]
     },
     "execution_count": 36,
     "metadata": {},
     "output_type": "execute_result"
    }
   ],
   "source": [
    "train['Ratings'].isna().sum() #Inspect nan values"
   ]
  },
  {
   "cell_type": "code",
   "execution_count": 37,
   "id": "b434c0ce",
   "metadata": {
    "scrolled": true
   },
   "outputs": [
    {
     "data": {
      "image/png": "[encoded data removed]",
      "text/plain": [
       "<Figure size 1080x360 with 1 Axes>"
      ]
     },
     "metadata": {
      "needs_background": "light"
     },
     "output_type": "display_data"
    }
   ],
   "source": [
    "plt.figure(figsize=(15,5)) #Inspect distribution\n",
    "sns.kdeplot(x= 'Ratings',data = train);"
   ]
  },
  {
   "cell_type": "markdown",
   "id": "12d3d4f5",
   "metadata": {},
   "source": [
    "**The distribution is severely right skewed so the missing values should be replaced with the median.**"
   ]
  },
  {
   "cell_type": "code",
   "execution_count": 38,
   "id": "8109e3d1",
   "metadata": {},
   "outputs": [],
   "source": [
    "train['Ratings'].fillna(train['Ratings'].median(),inplace = True)"
   ]
  },
  {
   "cell_type": "code",
   "execution_count": 39,
   "id": "4aa8fa7d",
   "metadata": {},
   "outputs": [
    {
     "data": {
      "image/png": "[encoded data removed]",
      "text/plain": [
       "<Figure size 1080x576 with 1 Axes>"
      ]
     },
     "metadata": {
      "needs_background": "light"
     },
     "output_type": "display_data"
    }
   ],
   "source": [
    "plt.figure(figsize=(15,8)) #Inspect boxplot\n",
    "sns.boxplot(x='Ratings',data=train);"
   ]
  },
  {
   "cell_type": "markdown",
   "id": "8a3355b2",
   "metadata": {},
   "source": [
    "**The column contains multiple outliers but they can be ignored as some books may be extremely famous therefore have a huge amount of reviews.**"
   ]
  },
  {
   "cell_type": "markdown",
   "id": "d5eabb31",
   "metadata": {},
   "source": [
    "### Cleaning 'Genre' and 'BookCategory' columns"
   ]
  },
  {
   "cell_type": "code",
   "execution_count": 40,
   "id": "58f5c9aa",
   "metadata": {},
   "outputs": [],
   "source": [
    "train['Genre'] = train['Genre'].astype('category')\n",
    "train['Genre'].fillna(train['Genre'][0], inplace=True)\n",
    "train['Book'] = np.nan\n",
    "\n",
    "for index, entrie in enumerate(train['Genre']):        #Create Book column with binary encoding of whether the book had\n",
    "    koro = entrie.split('(')                           #(book) in its Genre or not\n",
    "    if len(koro) == 1 :\n",
    "        train.loc[index, 'Book'] = 1 \n",
    "        \n",
    "    else:\n",
    "        train.loc[index, 'Book'] = 0\n",
    "train['Book'].fillna(train['Book'].mode()[0],inplace = True)"
   ]
  },
  {
   "cell_type": "code",
   "execution_count": 41,
   "id": "065db738",
   "metadata": {},
   "outputs": [],
   "source": [
    "train['Author'].fillna(train['Author'].mode()[0],inplace = True) #Fill nan values with the mode"
   ]
  },
  {
   "cell_type": "code",
   "execution_count": 42,
   "id": "8f7ad2db",
   "metadata": {},
   "outputs": [],
   "source": [
    "train['BookCategory'].fillna(train['BookCategory'].mode()[0],inplace = True) #Fill nan values with the mode"
   ]
  },
  {
   "cell_type": "code",
   "execution_count": 43,
   "id": "6dcda209",
   "metadata": {
    "scrolled": false
   },
   "outputs": [
    {
     "data": {
      "text/html": [
       "<div>\n",
       "<style scoped>\n",
       "    .dataframe tbody tr th:only-of-type {\n",
       "        vertical-align: middle;\n",
       "    }\n",
       "\n",
       "    .dataframe tbody tr th {\n",
       "        vertical-align: top;\n",
       "    }\n",
       "\n",
       "    .dataframe thead th {\n",
       "        text-align: right;\n",
       "    }\n",
       "</style>\n",
       "<table border=\"1\" class=\"dataframe\">\n",
       "  <thead>\n",
       "    <tr style=\"text-align: right;\">\n",
       "      <th></th>\n",
       "      <th>Author</th>\n",
       "      <th>Edition</th>\n",
       "      <th>Reviews</th>\n",
       "      <th>Ratings</th>\n",
       "      <th>Genre</th>\n",
       "      <th>BookCategory</th>\n",
       "      <th>Price</th>\n",
       "      <th>Cover</th>\n",
       "      <th>Date</th>\n",
       "      <th>Book</th>\n",
       "    </tr>\n",
       "  </thead>\n",
       "  <tbody>\n",
       "    <tr>\n",
       "      <th>0</th>\n",
       "      <td>0</td>\n",
       "      <td>Paperback,– Import, 1 Apr 2008</td>\n",
       "      <td>5.0</td>\n",
       "      <td>1.0</td>\n",
       "      <td>Comics &amp; Mangas (Books)</td>\n",
       "      <td>Comics &amp; Mangas</td>\n",
       "      <td>2.292</td>\n",
       "      <td>Paperback</td>\n",
       "      <td>2008.0</td>\n",
       "      <td>0.0</td>\n",
       "    </tr>\n",
       "    <tr>\n",
       "      <th>1</th>\n",
       "      <td>2</td>\n",
       "      <td>Paperback,– 27 Mar 2014</td>\n",
       "      <td>4.5</td>\n",
       "      <td>474.0</td>\n",
       "      <td>Action &amp; Adventure (Books)</td>\n",
       "      <td>Crime, Thriller &amp; Mystery</td>\n",
       "      <td>4.800</td>\n",
       "      <td>Paperback</td>\n",
       "      <td>2014.0</td>\n",
       "      <td>0.0</td>\n",
       "    </tr>\n",
       "    <tr>\n",
       "      <th>2</th>\n",
       "      <td>1</td>\n",
       "      <td>Paperback,– 28 May 2000</td>\n",
       "      <td>4.9</td>\n",
       "      <td>15.0</td>\n",
       "      <td>Handicrafts, Decorative Arts &amp; Crafts (Books)</td>\n",
       "      <td>Arts, Film &amp; Photography</td>\n",
       "      <td>10.500</td>\n",
       "      <td>Paperback</td>\n",
       "      <td>2000.0</td>\n",
       "      <td>0.0</td>\n",
       "    </tr>\n",
       "    <tr>\n",
       "      <th>3</th>\n",
       "      <td>1</td>\n",
       "      <td>Paperback,– 24 Sep 2013</td>\n",
       "      <td>4.8</td>\n",
       "      <td>52.0</td>\n",
       "      <td>Biographies &amp; Autobiographies (Books)</td>\n",
       "      <td>Sports</td>\n",
       "      <td>5.520</td>\n",
       "      <td>Paperback</td>\n",
       "      <td>2013.0</td>\n",
       "      <td>0.0</td>\n",
       "    </tr>\n",
       "    <tr>\n",
       "      <th>4</th>\n",
       "      <td>1</td>\n",
       "      <td>Paperback,– 28 Jul 2017</td>\n",
       "      <td>4.5</td>\n",
       "      <td>2.0</td>\n",
       "      <td>Romance (Books)</td>\n",
       "      <td>Romance</td>\n",
       "      <td>4.776</td>\n",
       "      <td>Paperback</td>\n",
       "      <td>2017.0</td>\n",
       "      <td>0.0</td>\n",
       "    </tr>\n",
       "  </tbody>\n",
       "</table>\n",
       "</div>"
      ],
      "text/plain": [
       "  Author                         Edition  Reviews  Ratings  \\\n",
       "0      0  Paperback,– Import, 1 Apr 2008      5.0      1.0   \n",
       "1      2         Paperback,– 27 Mar 2014      4.5    474.0   \n",
       "2      1         Paperback,– 28 May 2000      4.9     15.0   \n",
       "3      1         Paperback,– 24 Sep 2013      4.8     52.0   \n",
       "4      1         Paperback,– 28 Jul 2017      4.5      2.0   \n",
       "\n",
       "                                           Genre               BookCategory  \\\n",
       "0                        Comics & Mangas (Books)            Comics & Mangas   \n",
       "1                     Action & Adventure (Books)  Crime, Thriller & Mystery   \n",
       "2  Handicrafts, Decorative Arts & Crafts (Books)   Arts, Film & Photography   \n",
       "3          Biographies & Autobiographies (Books)                     Sports   \n",
       "4                                Romance (Books)                    Romance   \n",
       "\n",
       "    Price      Cover    Date  Book  \n",
       "0   2.292  Paperback  2008.0   0.0  \n",
       "1   4.800  Paperback  2014.0   0.0  \n",
       "2  10.500  Paperback  2000.0   0.0  \n",
       "3   5.520  Paperback  2013.0   0.0  \n",
       "4   4.776  Paperback  2017.0   0.0  "
      ]
     },
     "execution_count": 43,
     "metadata": {},
     "output_type": "execute_result"
    }
   ],
   "source": [
    "train.head() #Inspect data"
   ]
  },
  {
   "cell_type": "code",
   "execution_count": 44,
   "id": "8f5df4f1",
   "metadata": {
    "scrolled": true
   },
   "outputs": [],
   "source": [
    "train.drop(train.tail(191).index,inplace=True) #Remove redundant data"
   ]
  },
  {
   "cell_type": "markdown",
   "id": "234ce6c2",
   "metadata": {},
   "source": [
    "### Cleaning 'Price' column"
   ]
  },
  {
   "cell_type": "code",
   "execution_count": 45,
   "id": "6895df07",
   "metadata": {},
   "outputs": [
    {
     "data": {
      "image/png": "[encoded data removed]",
      "text/plain": [
       "<Figure size 1080x360 with 1 Axes>"
      ]
     },
     "metadata": {
      "needs_background": "light"
     },
     "output_type": "display_data"
    }
   ],
   "source": [
    "plt.figure(figsize=(15,5)) #Inspect distribution\n",
    "sns.kdeplot(x= 'Price',data = train);"
   ]
  },
  {
   "cell_type": "code",
   "execution_count": 46,
   "id": "5bd96f55",
   "metadata": {},
   "outputs": [
    {
     "data": {
      "image/png": "[encoded data removed]",
      "text/plain": [
       "<Figure size 1080x576 with 1 Axes>"
      ]
     },
     "metadata": {
      "needs_background": "light"
     },
     "output_type": "display_data"
    }
   ],
   "source": [
    "plt.figure(figsize=(15,8)) #Inspect box plot\n",
    "sns.boxplot(x='Price',data=train);"
   ]
  },
  {
   "cell_type": "markdown",
   "id": "54ad57a6",
   "metadata": {},
   "source": [
    "**Any book more expensive than 200 dollars seems excessive**"
   ]
  },
  {
   "cell_type": "code",
   "execution_count": 47,
   "id": "11beb30d",
   "metadata": {},
   "outputs": [],
   "source": [
    "train.loc[train['Price'] > 200,'Price'] = None"
   ]
  },
  {
   "cell_type": "code",
   "execution_count": 48,
   "id": "0cda2ccf",
   "metadata": {},
   "outputs": [
    {
     "data": {
      "image/png": "[encoded data removed]",
      "text/plain": [
       "<Figure size 1080x576 with 1 Axes>"
      ]
     },
     "metadata": {
      "needs_background": "light"
     },
     "output_type": "display_data"
    }
   ],
   "source": [
    "plt.figure(figsize=(15,8)) #Inspect box plot again\n",
    "sns.boxplot(x='Price',data=train);"
   ]
  },
  {
   "cell_type": "code",
   "execution_count": 49,
   "id": "ba309d60",
   "metadata": {},
   "outputs": [],
   "source": [
    "train['Price'].fillna(train['Price'].median(),inplace = True) #Fill nan values with the median"
   ]
  },
  {
   "cell_type": "markdown",
   "id": "a26eb562",
   "metadata": {},
   "source": [
    "## Data Cleaning (Test) \n",
    "**(Same steps as in cleaning train set**)"
   ]
  },
  {
   "cell_type": "code",
   "execution_count": 50,
   "id": "cfadc816",
   "metadata": {},
   "outputs": [],
   "source": [
    "test.drop(['Title','Synopsis'],axis =1,inplace = True)"
   ]
  },
  {
   "cell_type": "code",
   "execution_count": 51,
   "id": "408a6410",
   "metadata": {},
   "outputs": [],
   "source": [
    "test.drop_duplicates(inplace = True)\n",
    "test.drop('ID',axis = 1,inplace = True)"
   ]
  },
  {
   "cell_type": "markdown",
   "id": "c8587339",
   "metadata": {},
   "source": [
    "### Cleaning 'Author' column"
   ]
  },
  {
   "cell_type": "code",
   "execution_count": 52,
   "id": "ab3ec503",
   "metadata": {},
   "outputs": [],
   "source": [
    "test['Author'] = test['Author'].astype(str)\n",
    "test['Genre'] = test['Genre'].astype(str)\n",
    "test['BookCategory'] = test['BookCategory'].astype(str)"
   ]
  },
  {
   "cell_type": "code",
   "execution_count": 53,
   "id": "06aa7a64",
   "metadata": {},
   "outputs": [],
   "source": [
    "test['Author'] = test['Author'].map(auth_prc)"
   ]
  },
  {
   "cell_type": "code",
   "execution_count": 54,
   "id": "fab51ae9",
   "metadata": {},
   "outputs": [],
   "source": [
    "test['Author'].fillna(train['Author'].mode()[0],inplace =True)"
   ]
  },
  {
   "cell_type": "markdown",
   "id": "24679213",
   "metadata": {},
   "source": [
    "### Splitting 'Edition' column to 'Cover' & 'Date' Columns"
   ]
  },
  {
   "cell_type": "code",
   "execution_count": 55,
   "id": "debf69f4",
   "metadata": {},
   "outputs": [],
   "source": [
    "years_short = ['Jan', 'Feb', 'Mar', 'Apr', 'May', 'Jun','Jul','Aug','Sep','Oct','Nov', 'Dec']\n",
    "\n",
    "for index, entrie in enumerate(test['Edition']):\n",
    "    koro = entrie.split(',– ')[0].split(',- ')\n",
    "    if len(koro) == 1:\n",
    "        if koro[0][0:3] in years_short:\n",
    "            test.loc[index, 'Cover'] = np.nan\n",
    "            \n",
    "        else:\n",
    "            test.loc[index, 'Cover'] = koro[0]\n",
    "    else:\n",
    "        test.loc[index, 'Cover'] = koro[0]"
   ]
  },
  {
   "cell_type": "code",
   "execution_count": 56,
   "id": "622e8df9",
   "metadata": {},
   "outputs": [],
   "source": [
    "test['Cover'].fillna(train['Cover'].mode()[0],inplace=True)"
   ]
  },
  {
   "cell_type": "code",
   "execution_count": 57,
   "id": "aab73b5f",
   "metadata": {},
   "outputs": [],
   "source": [
    "test['Date'] = np.nan\n",
    "\n",
    "for index, entrie in enumerate(test['Edition'].str.split('Paperback')):\n",
    "    test['Date'][index] = entrie[-1].split(\",\")[-1].split('– ')[-1][-4:]"
   ]
  },
  {
   "cell_type": "code",
   "execution_count": 58,
   "id": "b55d7a69",
   "metadata": {},
   "outputs": [
    {
     "data": {
      "text/plain": [
       "0"
      ]
     },
     "execution_count": 58,
     "metadata": {},
     "output_type": "execute_result"
    }
   ],
   "source": [
    "test['Date'] = pd.to_numeric(test['Date'], errors='coerce', downcast='integer')\n",
    "\n",
    "test['Date'].fillna(train['Date'].mode()[0],inplace = True)\n",
    "\n",
    "test['Date'].unique()\n",
    "\n",
    "test['Date'].isna().sum()"
   ]
  },
  {
   "cell_type": "code",
   "execution_count": 59,
   "id": "a7a24be0",
   "metadata": {},
   "outputs": [],
   "source": [
    "train.drop(['Edition'],axis = 1,inplace = True)\n",
    "test.drop(['Edition'],axis = 1,inplace = True)"
   ]
  },
  {
   "cell_type": "markdown",
   "id": "24e49e9f",
   "metadata": {},
   "source": [
    "### Cleaning 'Reviews' column"
   ]
  },
  {
   "cell_type": "code",
   "execution_count": 60,
   "id": "5bdf9143",
   "metadata": {},
   "outputs": [],
   "source": [
    "test['Reviews']= test['Reviews'].str[:3]"
   ]
  },
  {
   "cell_type": "code",
   "execution_count": 61,
   "id": "16e41b3d",
   "metadata": {},
   "outputs": [],
   "source": [
    "test['Reviews'] = test['Reviews'].astype(float)"
   ]
  },
  {
   "cell_type": "code",
   "execution_count": 62,
   "id": "eb25f18f",
   "metadata": {},
   "outputs": [
    {
     "data": {
      "text/plain": [
       "14"
      ]
     },
     "execution_count": 62,
     "metadata": {},
     "output_type": "execute_result"
    }
   ],
   "source": [
    "test['Reviews'].isna().sum()"
   ]
  },
  {
   "cell_type": "code",
   "execution_count": 63,
   "id": "aa2300ce",
   "metadata": {},
   "outputs": [],
   "source": [
    "test['Reviews'].fillna(train['Reviews'].median(),inplace = True)"
   ]
  },
  {
   "cell_type": "markdown",
   "id": "87a974db",
   "metadata": {},
   "source": [
    "### Cleaning 'Ratings' column"
   ]
  },
  {
   "cell_type": "code",
   "execution_count": 64,
   "id": "06ebd96d",
   "metadata": {},
   "outputs": [],
   "source": [
    "test['Ratings'] = test['Ratings'].str.extract('(\\d+)')"
   ]
  },
  {
   "cell_type": "code",
   "execution_count": 65,
   "id": "664dcc8a",
   "metadata": {},
   "outputs": [],
   "source": [
    "test['Ratings'] = pd.to_numeric(test['Ratings'], errors='coerce', downcast='integer')"
   ]
  },
  {
   "cell_type": "code",
   "execution_count": 66,
   "id": "1aad36e7",
   "metadata": {},
   "outputs": [
    {
     "data": {
      "text/plain": [
       "14"
      ]
     },
     "execution_count": 66,
     "metadata": {},
     "output_type": "execute_result"
    }
   ],
   "source": [
    "test['Ratings'].isna().sum()"
   ]
  },
  {
   "cell_type": "code",
   "execution_count": 67,
   "id": "9c0c1220",
   "metadata": {},
   "outputs": [],
   "source": [
    "test['Ratings'].fillna(train['Ratings'].median(),inplace = True)"
   ]
  },
  {
   "cell_type": "markdown",
   "id": "915cdf18",
   "metadata": {},
   "source": [
    "### Cleaning 'Genre' and 'BookCategory' columns"
   ]
  },
  {
   "cell_type": "code",
   "execution_count": 68,
   "id": "06b0f742",
   "metadata": {},
   "outputs": [],
   "source": [
    "test['Genre'] = test['Genre'].astype('category')\n",
    "test['Genre'].fillna(train['Genre'].mode()[0], inplace=True)\n",
    "test['Book'] = np.nan\n",
    "\n",
    "for index, entrie in enumerate(test['Genre']):\n",
    "    koro = entrie.split('(')\n",
    "    if len(koro) == 1 :\n",
    "        test.loc[index, 'Book'] = 1\n",
    "        \n",
    "    else:\n",
    "        test.loc[index, 'Book'] = 0"
   ]
  },
  {
   "cell_type": "code",
   "execution_count": 69,
   "id": "b9877630",
   "metadata": {},
   "outputs": [],
   "source": [
    "test['Author'].fillna(train['Author'].mode()[0],inplace = True)"
   ]
  },
  {
   "cell_type": "code",
   "execution_count": 70,
   "id": "110ad071",
   "metadata": {},
   "outputs": [],
   "source": [
    "test['BookCategory'].fillna(train['BookCategory'].mode()[0],inplace = True)"
   ]
  },
  {
   "cell_type": "markdown",
   "id": "83ae23be",
   "metadata": {},
   "source": [
    "## Modelling ⚙️"
   ]
  },
  {
   "cell_type": "markdown",
   "id": "07c4e36f",
   "metadata": {},
   "source": [
    "### Encoding"
   ]
  },
  {
   "cell_type": "code",
   "execution_count": 71,
   "id": "14d8fd8e",
   "metadata": {},
   "outputs": [],
   "source": [
    "le = LabelEncoder()\n",
    "columns = ['Genre','BookCategory','Cover'] #Used label encoder for categorical columns\n",
    "\n",
    "for column in columns:\n",
    "    train[column] = le.fit_transform(train[column])\n",
    "    test[column] = le.fit_transform(test[column])"
   ]
  },
  {
   "cell_type": "markdown",
   "id": "5e9e535a",
   "metadata": {},
   "source": [
    "### Cross Validation"
   ]
  },
  {
   "cell_type": "code",
   "execution_count": 75,
   "id": "b4c2b1d6",
   "metadata": {},
   "outputs": [],
   "source": [
    "X = train.drop('Price',axis = 1)\n",
    "y = train['Price']"
   ]
  },
  {
   "cell_type": "code",
   "execution_count": 76,
   "id": "5dd39247",
   "metadata": {},
   "outputs": [],
   "source": [
    "ridge = RidgeCV()                            #Created model variables\n",
    "lasso = LassoCV()\n",
    "dt = DecisionTreeRegressor(max_depth = 4)\n",
    "knn = KNeighborsRegressor(n_neighbors= 9)\n",
    "rf = RandomForestRegressor(max_depth = 6, n_estimators = 90, random_state = 73)\n",
    "gbr = GradientBoostingRegressor(max_depth = 3, n_estimators = 50, random_state = 37)\n",
    "lr = LinearRegression()"
   ]
  },
  {
   "cell_type": "code",
   "execution_count": 77,
   "id": "ba60509d",
   "metadata": {},
   "outputs": [
    {
     "name": "stdout",
     "output_type": "stream",
     "text": [
      "RidgeCV score =  8.42095324970043\n",
      "LassoCV score =  7.975540498549542\n",
      "DecisionTreeRegressor score =  5.829128476928617\n",
      "KNeighborsRegressor score =  7.28780412802498\n",
      "RandomForestRegressor score =  5.232188919975017\n",
      "GradientBoostingRegressor score =  5.271520931607606\n",
      "Linear Regression score =  8.433743779031394\n"
     ]
    }
   ],
   "source": [
    "metric = 'neg_mean_absolute_error'         #Cross validation\n",
    "\n",
    "print(\"RidgeCV score = \", cross_val_score(ridge, X, y, cv=5, scoring = metric).mean()*-1)\n",
    "print(\"LassoCV score = \", cross_val_score(lasso, X, y, cv=5, scoring = metric).mean()*-1)\n",
    "print(\"DecisionTreeRegressor score = \", cross_val_score(dt, X, y, cv=5, scoring = metric).mean()*-1)\n",
    "print(\"KNeighborsRegressor score = \", cross_val_score(knn, X, y, cv=5, scoring = metric).mean()*-1)\n",
    "print(\"RandomForestRegressor score = \", cross_val_score(rf, X, y, cv=5, scoring = metric).mean()*-1)\n",
    "print(\"GradientBoostingRegressor score = \", cross_val_score(gbr, X, y, cv=5, scoring = metric).mean()*-1)\n",
    "print(\"Linear Regression score = \", cross_val_score(lr, X, y, cv=5, scoring = metric).mean()*-1)"
   ]
  },
  {
   "cell_type": "markdown",
   "id": "4fa0b05e",
   "metadata": {},
   "source": [
    "**Random Forest performs best**"
   ]
  },
  {
   "cell_type": "markdown",
   "id": "9f6f9977",
   "metadata": {},
   "source": [
    "### Applying Best Algorithm"
   ]
  },
  {
   "cell_type": "code",
   "execution_count": 78,
   "id": "1d4e1991",
   "metadata": {},
   "outputs": [],
   "source": [
    "rf.fit(X,y)\n",
    "y_pred = rf.predict(test)"
   ]
  },
  {
   "cell_type": "code",
   "execution_count": 79,
   "id": "2d675b83",
   "metadata": {},
   "outputs": [
    {
     "data": {
      "text/html": [
       "<div>\n",
       "<style scoped>\n",
       "    .dataframe tbody tr th:only-of-type {\n",
       "        vertical-align: middle;\n",
       "    }\n",
       "\n",
       "    .dataframe tbody tr th {\n",
       "        vertical-align: top;\n",
       "    }\n",
       "\n",
       "    .dataframe thead th {\n",
       "        text-align: right;\n",
       "    }\n",
       "</style>\n",
       "<table border=\"1\" class=\"dataframe\">\n",
       "  <thead>\n",
       "    <tr style=\"text-align: right;\">\n",
       "      <th></th>\n",
       "      <th>ID</th>\n",
       "      <th>Price</th>\n",
       "    </tr>\n",
       "  </thead>\n",
       "  <tbody>\n",
       "    <tr>\n",
       "      <th>0</th>\n",
       "      <td>0</td>\n",
       "      <td>27.306399</td>\n",
       "    </tr>\n",
       "    <tr>\n",
       "      <th>1</th>\n",
       "      <td>1</td>\n",
       "      <td>5.396997</td>\n",
       "    </tr>\n",
       "    <tr>\n",
       "      <th>2</th>\n",
       "      <td>2</td>\n",
       "      <td>50.863632</td>\n",
       "    </tr>\n",
       "    <tr>\n",
       "      <th>3</th>\n",
       "      <td>3</td>\n",
       "      <td>24.471853</td>\n",
       "    </tr>\n",
       "    <tr>\n",
       "      <th>4</th>\n",
       "      <td>4</td>\n",
       "      <td>6.122887</td>\n",
       "    </tr>\n",
       "  </tbody>\n",
       "</table>\n",
       "</div>"
      ],
      "text/plain": [
       "   ID      Price\n",
       "0   0  27.306399\n",
       "1   1   5.396997\n",
       "2   2  50.863632\n",
       "3   3  24.471853\n",
       "4   4   6.122887"
      ]
     },
     "execution_count": 79,
     "metadata": {},
     "output_type": "execute_result"
    }
   ],
   "source": [
    "pred = pd.DataFrame({'ID':ID,'Price': y_pred})\n",
    "pred.head()"
   ]
  },
  {
   "cell_type": "code",
   "execution_count": 80,
   "id": "582adba0",
   "metadata": {},
   "outputs": [],
   "source": [
    "pred.to_csv('FinalBookPrediction.csv',index=False)"
   ]
  }
 ],
 "metadata": {
  "kernelspec": {
   "display_name": "Python 3 (ipykernel)",
   "language": "python",
   "name": "python3"
  },
  "language_info": {
   "codemirror_mode": {
    "name": "ipython",
    "version": 3
   },
   "file_extension": ".py",
   "mimetype": "text/x-python",
   "name": "python",
   "nbconvert_exporter": "python",
   "pygments_lexer": "ipython3",
   "version": "3.9.12"
  }
 },
 "nbformat": 4,
 "nbformat_minor": 5
}
