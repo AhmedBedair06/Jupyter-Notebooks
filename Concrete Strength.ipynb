{
 "cells": [
  {
   "cell_type": "markdown",
   "id": "e83967e2",
   "metadata": {},
   "source": [
    "# Concrete Strength Prediction\n",
    "\n",
    "### In this notebook I created and tested multiple models that can predict the compressive strength of concrete based on multiple features.\n",
    "\n",
    "### I used the Concrete Strength Dataset"
   ]
  },
  {
   "cell_type": "markdown",
   "id": "a291ed3f",
   "metadata": {},
   "source": [
    "## Importing libraries & Reading data"
   ]
  },
  {
   "cell_type": "code",
   "execution_count": 1,
   "id": "34f924d2",
   "metadata": {},
   "outputs": [],
   "source": [
    "import numpy as np\n",
    "import pandas as pd\n",
    "import matplotlib.pyplot as plt\n",
    "%matplotlib inline\n",
    "import seaborn as sns\n",
    "from sklearn.model_selection import cross_val_score\n",
    "\n",
    "from sklearn.linear_model import RidgeCV\n",
    "from sklearn.linear_model import LassoCV\n",
    "from sklearn.tree import DecisionTreeRegressor\n",
    "from sklearn.neighbors import KNeighborsRegressor\n",
    "from sklearn.ensemble import RandomForestRegressor\n",
    "from sklearn.ensemble import GradientBoostingRegressor\n",
    "from sklearn.linear_model import LinearRegression"
   ]
  },
  {
   "cell_type": "code",
   "execution_count": 2,
   "id": "2365dead",
   "metadata": {},
   "outputs": [
    {
     "data": {
      "text/html": [
       "<div>\n",
       "<style scoped>\n",
       "    .dataframe tbody tr th:only-of-type {\n",
       "        vertical-align: middle;\n",
       "    }\n",
       "\n",
       "    .dataframe tbody tr th {\n",
       "        vertical-align: top;\n",
       "    }\n",
       "\n",
       "    .dataframe thead th {\n",
       "        text-align: right;\n",
       "    }\n",
       "</style>\n",
       "<table border=\"1\" class=\"dataframe\">\n",
       "  <thead>\n",
       "    <tr style=\"text-align: right;\">\n",
       "      <th></th>\n",
       "      <th>id</th>\n",
       "      <th>CementComponent</th>\n",
       "      <th>BlastFurnaceSlag</th>\n",
       "      <th>FlyAshComponent</th>\n",
       "      <th>WaterComponent</th>\n",
       "      <th>SuperplasticizerComponent</th>\n",
       "      <th>CoarseAggregateComponent</th>\n",
       "      <th>FineAggregateComponent</th>\n",
       "      <th>AgeInDays</th>\n",
       "      <th>Strength</th>\n",
       "    </tr>\n",
       "  </thead>\n",
       "  <tbody>\n",
       "    <tr>\n",
       "      <th>0</th>\n",
       "      <td>0</td>\n",
       "      <td>525.0</td>\n",
       "      <td>0.0</td>\n",
       "      <td>0.0</td>\n",
       "      <td>186.0</td>\n",
       "      <td>0.0</td>\n",
       "      <td>1125.0</td>\n",
       "      <td>613.0</td>\n",
       "      <td>3</td>\n",
       "      <td>10.38</td>\n",
       "    </tr>\n",
       "    <tr>\n",
       "      <th>1</th>\n",
       "      <td>1</td>\n",
       "      <td>143.0</td>\n",
       "      <td>169.0</td>\n",
       "      <td>143.0</td>\n",
       "      <td>191.0</td>\n",
       "      <td>8.0</td>\n",
       "      <td>967.0</td>\n",
       "      <td>643.0</td>\n",
       "      <td>28</td>\n",
       "      <td>23.52</td>\n",
       "    </tr>\n",
       "    <tr>\n",
       "      <th>2</th>\n",
       "      <td>2</td>\n",
       "      <td>289.0</td>\n",
       "      <td>134.7</td>\n",
       "      <td>0.0</td>\n",
       "      <td>185.7</td>\n",
       "      <td>0.0</td>\n",
       "      <td>1075.0</td>\n",
       "      <td>795.3</td>\n",
       "      <td>28</td>\n",
       "      <td>36.96</td>\n",
       "    </tr>\n",
       "    <tr>\n",
       "      <th>3</th>\n",
       "      <td>3</td>\n",
       "      <td>304.0</td>\n",
       "      <td>76.0</td>\n",
       "      <td>0.0</td>\n",
       "      <td>228.0</td>\n",
       "      <td>0.0</td>\n",
       "      <td>932.0</td>\n",
       "      <td>670.0</td>\n",
       "      <td>365</td>\n",
       "      <td>39.05</td>\n",
       "    </tr>\n",
       "    <tr>\n",
       "      <th>4</th>\n",
       "      <td>4</td>\n",
       "      <td>157.0</td>\n",
       "      <td>236.0</td>\n",
       "      <td>0.0</td>\n",
       "      <td>192.0</td>\n",
       "      <td>0.0</td>\n",
       "      <td>935.4</td>\n",
       "      <td>781.2</td>\n",
       "      <td>90</td>\n",
       "      <td>74.19</td>\n",
       "    </tr>\n",
       "  </tbody>\n",
       "</table>\n",
       "</div>"
      ],
      "text/plain": [
       "   id  CementComponent  BlastFurnaceSlag  FlyAshComponent  WaterComponent  \\\n",
       "0   0            525.0               0.0              0.0           186.0   \n",
       "1   1            143.0             169.0            143.0           191.0   \n",
       "2   2            289.0             134.7              0.0           185.7   \n",
       "3   3            304.0              76.0              0.0           228.0   \n",
       "4   4            157.0             236.0              0.0           192.0   \n",
       "\n",
       "   SuperplasticizerComponent  CoarseAggregateComponent  \\\n",
       "0                        0.0                    1125.0   \n",
       "1                        8.0                     967.0   \n",
       "2                        0.0                    1075.0   \n",
       "3                        0.0                     932.0   \n",
       "4                        0.0                     935.4   \n",
       "\n",
       "   FineAggregateComponent  AgeInDays  Strength  \n",
       "0                   613.0          3     10.38  \n",
       "1                   643.0         28     23.52  \n",
       "2                   795.3         28     36.96  \n",
       "3                   670.0        365     39.05  \n",
       "4                   781.2         90     74.19  "
      ]
     },
     "execution_count": 2,
     "metadata": {},
     "output_type": "execute_result"
    }
   ],
   "source": [
    "conc_train = pd.read_csv('train.csv')\n",
    "conc_test = pd.read_csv('test.csv')\n",
    "\n",
    "conc_train.head()"
   ]
  },
  {
   "cell_type": "markdown",
   "id": "c56281b9",
   "metadata": {},
   "source": [
    "## Data Wrangling & Cleaning"
   ]
  },
  {
   "cell_type": "code",
   "execution_count": 3,
   "id": "c75f2e33",
   "metadata": {},
   "outputs": [],
   "source": [
    "ID = conc_test['id']     ##Stored the test id column in a variable before dropping it to use in submission csv\n",
    "\n",
    "conc_train.drop('id',axis=1,inplace=True)  ##Dropped id column \n",
    "conc_test.drop('id',axis=1,inplace=True)"
   ]
  },
  {
   "cell_type": "code",
   "execution_count": 4,
   "id": "ea5801ec",
   "metadata": {},
   "outputs": [
    {
     "data": {
      "text/plain": [
       "(5407, 9)"
      ]
     },
     "execution_count": 4,
     "metadata": {},
     "output_type": "execute_result"
    }
   ],
   "source": [
    "conc_train.shape ##Inspect dimensions"
   ]
  },
  {
   "cell_type": "code",
   "execution_count": 5,
   "id": "eafa36e4",
   "metadata": {},
   "outputs": [
    {
     "data": {
      "text/plain": [
       "0"
      ]
     },
     "execution_count": 5,
     "metadata": {},
     "output_type": "execute_result"
    }
   ],
   "source": [
    "conc_train.duplicated().sum() #Check for duplicates"
   ]
  },
  {
   "cell_type": "code",
   "execution_count": 6,
   "id": "e5a59f6f",
   "metadata": {},
   "outputs": [
    {
     "data": {
      "text/plain": [
       "CementComponent              0\n",
       "BlastFurnaceSlag             0\n",
       "FlyAshComponent              0\n",
       "WaterComponent               0\n",
       "SuperplasticizerComponent    0\n",
       "CoarseAggregateComponent     0\n",
       "FineAggregateComponent       0\n",
       "AgeInDays                    0\n",
       "Strength                     0\n",
       "dtype: int64"
      ]
     },
     "execution_count": 6,
     "metadata": {},
     "output_type": "execute_result"
    }
   ],
   "source": [
    "conc_train.isna().sum() #Check for missing values"
   ]
  },
  {
   "cell_type": "markdown",
   "id": "1089b941",
   "metadata": {},
   "source": [
    "## Feature Engineering"
   ]
  },
  {
   "cell_type": "code",
   "execution_count": 7,
   "id": "adc01d0e",
   "metadata": {},
   "outputs": [],
   "source": [
    "conc_train['CementAge'] = conc_train['CementComponent'] * conc_train['AgeInDays']  #Engineered 2 features that increased accuracy\n",
    "conc_train['WaterAge'] = conc_train['WaterComponent'] * conc_train['AgeInDays']    #in validation\n",
    "conc_train.drop('WaterComponent',axis = 1,inplace = True)                          #Dropped 1 feature that also increased accuracy\n",
    "                                                                                   #in validation\n",
    "conc_test['CementAge'] = conc_test['CementComponent'] * conc_test['AgeInDays']\n",
    "conc_test['WaterAge'] = conc_test['WaterComponent'] * conc_test['AgeInDays']\n",
    "conc_test.drop('WaterComponent',axis = 1,inplace = True)"
   ]
  },
  {
   "cell_type": "code",
   "execution_count": 8,
   "id": "9e480f95",
   "metadata": {},
   "outputs": [
    {
     "data": {
      "image/png": "[encoded data removed]",
      "text/plain": [
       "<Figure size 1080x576 with 2 Axes>"
      ]
     },
     "metadata": {
      "needs_background": "light"
     },
     "output_type": "display_data"
    }
   ],
   "source": [
    "matrix = conc_train.corr() #Check correlation\n",
    "\n",
    "plt.figure(figsize=(15,8))\n",
    "sns.heatmap(matrix,annot=True)\n",
    "plt.show()"
   ]
  },
  {
   "cell_type": "code",
   "execution_count": 9,
   "id": "42ce791d",
   "metadata": {},
   "outputs": [
    {
     "data": {
      "text/html": [
       "<div>\n",
       "<style scoped>\n",
       "    .dataframe tbody tr th:only-of-type {\n",
       "        vertical-align: middle;\n",
       "    }\n",
       "\n",
       "    .dataframe tbody tr th {\n",
       "        vertical-align: top;\n",
       "    }\n",
       "\n",
       "    .dataframe thead th {\n",
       "        text-align: right;\n",
       "    }\n",
       "</style>\n",
       "<table border=\"1\" class=\"dataframe\">\n",
       "  <thead>\n",
       "    <tr style=\"text-align: right;\">\n",
       "      <th></th>\n",
       "      <th>CementComponent</th>\n",
       "      <th>BlastFurnaceSlag</th>\n",
       "      <th>FlyAshComponent</th>\n",
       "      <th>SuperplasticizerComponent</th>\n",
       "      <th>CoarseAggregateComponent</th>\n",
       "      <th>FineAggregateComponent</th>\n",
       "      <th>AgeInDays</th>\n",
       "      <th>Strength</th>\n",
       "      <th>CementAge</th>\n",
       "      <th>WaterAge</th>\n",
       "    </tr>\n",
       "  </thead>\n",
       "  <tbody>\n",
       "    <tr>\n",
       "      <th>count</th>\n",
       "      <td>5407.000000</td>\n",
       "      <td>5407.000000</td>\n",
       "      <td>5407.000000</td>\n",
       "      <td>5407.000000</td>\n",
       "      <td>5407.000000</td>\n",
       "      <td>5407.000000</td>\n",
       "      <td>5407.000000</td>\n",
       "      <td>5407.000000</td>\n",
       "      <td>5407.000000</td>\n",
       "      <td>5407.000000</td>\n",
       "    </tr>\n",
       "    <tr>\n",
       "      <th>mean</th>\n",
       "      <td>299.168189</td>\n",
       "      <td>58.610579</td>\n",
       "      <td>31.872795</td>\n",
       "      <td>4.108441</td>\n",
       "      <td>992.000718</td>\n",
       "      <td>771.219974</td>\n",
       "      <td>51.751618</td>\n",
       "      <td>35.452071</td>\n",
       "      <td>16194.549380</td>\n",
       "      <td>9883.324727</td>\n",
       "    </tr>\n",
       "    <tr>\n",
       "      <th>std</th>\n",
       "      <td>105.537682</td>\n",
       "      <td>83.417801</td>\n",
       "      <td>54.605003</td>\n",
       "      <td>5.692296</td>\n",
       "      <td>77.148010</td>\n",
       "      <td>78.725253</td>\n",
       "      <td>70.006975</td>\n",
       "      <td>16.401896</td>\n",
       "      <td>25399.857861</td>\n",
       "      <td>14200.685193</td>\n",
       "    </tr>\n",
       "    <tr>\n",
       "      <th>min</th>\n",
       "      <td>102.000000</td>\n",
       "      <td>0.000000</td>\n",
       "      <td>0.000000</td>\n",
       "      <td>0.000000</td>\n",
       "      <td>801.000000</td>\n",
       "      <td>594.000000</td>\n",
       "      <td>1.000000</td>\n",
       "      <td>2.330000</td>\n",
       "      <td>306.000000</td>\n",
       "      <td>173.000000</td>\n",
       "    </tr>\n",
       "    <tr>\n",
       "      <th>25%</th>\n",
       "      <td>213.700000</td>\n",
       "      <td>0.000000</td>\n",
       "      <td>0.000000</td>\n",
       "      <td>0.000000</td>\n",
       "      <td>938.200000</td>\n",
       "      <td>734.300000</td>\n",
       "      <td>7.000000</td>\n",
       "      <td>23.640000</td>\n",
       "      <td>2779.000000</td>\n",
       "      <td>1400.000000</td>\n",
       "    </tr>\n",
       "    <tr>\n",
       "      <th>50%</th>\n",
       "      <td>297.200000</td>\n",
       "      <td>0.000000</td>\n",
       "      <td>0.000000</td>\n",
       "      <td>0.000000</td>\n",
       "      <td>978.000000</td>\n",
       "      <td>781.200000</td>\n",
       "      <td>28.000000</td>\n",
       "      <td>33.950000</td>\n",
       "      <td>7952.000000</td>\n",
       "      <td>5199.600000</td>\n",
       "    </tr>\n",
       "    <tr>\n",
       "      <th>75%</th>\n",
       "      <td>375.000000</td>\n",
       "      <td>122.600000</td>\n",
       "      <td>79.000000</td>\n",
       "      <td>8.050000</td>\n",
       "      <td>1047.000000</td>\n",
       "      <td>821.000000</td>\n",
       "      <td>56.000000</td>\n",
       "      <td>45.850000</td>\n",
       "      <td>16500.000000</td>\n",
       "      <td>10556.000000</td>\n",
       "    </tr>\n",
       "    <tr>\n",
       "      <th>max</th>\n",
       "      <td>540.000000</td>\n",
       "      <td>359.400000</td>\n",
       "      <td>200.100000</td>\n",
       "      <td>32.200000</td>\n",
       "      <td>1145.000000</td>\n",
       "      <td>992.600000</td>\n",
       "      <td>365.000000</td>\n",
       "      <td>82.600000</td>\n",
       "      <td>197100.000000</td>\n",
       "      <td>83220.000000</td>\n",
       "    </tr>\n",
       "  </tbody>\n",
       "</table>\n",
       "</div>"
      ],
      "text/plain": [
       "       CementComponent  BlastFurnaceSlag  FlyAshComponent  \\\n",
       "count      5407.000000       5407.000000      5407.000000   \n",
       "mean        299.168189         58.610579        31.872795   \n",
       "std         105.537682         83.417801        54.605003   \n",
       "min         102.000000          0.000000         0.000000   \n",
       "25%         213.700000          0.000000         0.000000   \n",
       "50%         297.200000          0.000000         0.000000   \n",
       "75%         375.000000        122.600000        79.000000   \n",
       "max         540.000000        359.400000       200.100000   \n",
       "\n",
       "       SuperplasticizerComponent  CoarseAggregateComponent  \\\n",
       "count                5407.000000               5407.000000   \n",
       "mean                    4.108441                992.000718   \n",
       "std                     5.692296                 77.148010   \n",
       "min                     0.000000                801.000000   \n",
       "25%                     0.000000                938.200000   \n",
       "50%                     0.000000                978.000000   \n",
       "75%                     8.050000               1047.000000   \n",
       "max                    32.200000               1145.000000   \n",
       "\n",
       "       FineAggregateComponent    AgeInDays     Strength      CementAge  \\\n",
       "count             5407.000000  5407.000000  5407.000000    5407.000000   \n",
       "mean               771.219974    51.751618    35.452071   16194.549380   \n",
       "std                 78.725253    70.006975    16.401896   25399.857861   \n",
       "min                594.000000     1.000000     2.330000     306.000000   \n",
       "25%                734.300000     7.000000    23.640000    2779.000000   \n",
       "50%                781.200000    28.000000    33.950000    7952.000000   \n",
       "75%                821.000000    56.000000    45.850000   16500.000000   \n",
       "max                992.600000   365.000000    82.600000  197100.000000   \n",
       "\n",
       "           WaterAge  \n",
       "count   5407.000000  \n",
       "mean    9883.324727  \n",
       "std    14200.685193  \n",
       "min      173.000000  \n",
       "25%     1400.000000  \n",
       "50%     5199.600000  \n",
       "75%    10556.000000  \n",
       "max    83220.000000  "
      ]
     },
     "execution_count": 9,
     "metadata": {},
     "output_type": "execute_result"
    }
   ],
   "source": [
    "conc_train.describe()"
   ]
  },
  {
   "cell_type": "code",
   "execution_count": 10,
   "id": "6bc50358",
   "metadata": {},
   "outputs": [
    {
     "data": {
      "image/png": "[encoded data removed]",
      "text/plain": [
       "<Figure size 1080x720 with 1 Axes>"
      ]
     },
     "metadata": {
      "needs_background": "light"
     },
     "output_type": "display_data"
    }
   ],
   "source": [
    "plt.figure(figsize=(15,10))\n",
    "sns.boxplot(data=conc_train);  #Boxplot to inspect outliers\n",
    "plt.show()"
   ]
  },
  {
   "cell_type": "markdown",
   "id": "03fa94ae",
   "metadata": {},
   "source": [
    "## Modelling"
   ]
  },
  {
   "cell_type": "code",
   "execution_count": 11,
   "id": "9d27d739",
   "metadata": {},
   "outputs": [],
   "source": [
    "X= conc_train.drop('Strength', axis =1)  #Split Features and Target\n",
    "y= conc_train['Strength']"
   ]
  },
  {
   "cell_type": "code",
   "execution_count": 12,
   "id": "920241d9",
   "metadata": {},
   "outputs": [],
   "source": [
    "ridge = RidgeCV()                       #Created model variables\n",
    "lasso = LassoCV()\n",
    "dt = DecisionTreeRegressor(max_depth = 4)\n",
    "knn = KNeighborsRegressor(n_neighbors= 9)\n",
    "rf = RandomForestRegressor(max_depth = 6, n_estimators = 90, random_state = 73)\n",
    "gbr = GradientBoostingRegressor(max_depth = 3, n_estimators = 50, random_state = 37)\n",
    "lr = LinearRegression()"
   ]
  },
  {
   "cell_type": "code",
   "execution_count": 13,
   "id": "e68e5239",
   "metadata": {},
   "outputs": [
    {
     "name": "stdout",
     "output_type": "stream",
     "text": [
      "RidgeCV score =  14.436041196572699\n",
      "LassoCV score =  15.527473784465514\n",
      "DecisionTreeRegressor score =  12.49503252653801\n",
      "KNeighborsRegressor score =  12.559928686812501\n",
      "RandomForestRegressor score =  12.164135702573425\n",
      "GradientBoostingRegressor score =  12.13211166122663\n",
      "Linear Regression score =  14.4360374069846\n"
     ]
    }
   ],
   "source": [
    "print(\"RidgeCV score = \", cross_val_score(ridge, X, y, cv=5, scoring = 'neg_root_mean_squared_error').mean()*-1)\n",
    "print(\"LassoCV score = \", cross_val_score(lasso, X, y, cv=5, scoring = 'neg_root_mean_squared_error').mean()*-1)\n",
    "print(\"DecisionTreeRegressor score = \", cross_val_score(dt, X, y, cv=5, scoring = 'neg_root_mean_squared_error').mean()*-1)\n",
    "print(\"KNeighborsRegressor score = \", cross_val_score(knn, X, y, cv=5, scoring = 'neg_root_mean_squared_error').mean()*-1)\n",
    "print(\"RandomForestRegressor score = \", cross_val_score(rf, X, y, cv=5, scoring = 'neg_root_mean_squared_error').mean()*-1)\n",
    "print(\"GradientBoostingRegressor score = \", cross_val_score(gbr, X, y, cv=5, scoring = 'neg_root_mean_squared_error').mean()*-1)\n",
    "print(\"Linear Regression score = \", cross_val_score(lr, X, y, cv=5, scoring = 'neg_root_mean_squared_error').mean()*-1)"
   ]
  },
  {
   "cell_type": "markdown",
   "id": "bd0eb1cd",
   "metadata": {},
   "source": [
    "**Seems like Lasso has the highest score.**"
   ]
  },
  {
   "cell_type": "code",
   "execution_count": 14,
   "id": "c2588380",
   "metadata": {},
   "outputs": [],
   "source": [
    "lasso.fit(X,y)                    #Using test set to make prediction\n",
    "y_pred = lasso.predict(conc_test)"
   ]
  },
  {
   "cell_type": "code",
   "execution_count": 15,
   "id": "07857c90",
   "metadata": {},
   "outputs": [
    {
     "data": {
      "text/html": [
       "<div>\n",
       "<style scoped>\n",
       "    .dataframe tbody tr th:only-of-type {\n",
       "        vertical-align: middle;\n",
       "    }\n",
       "\n",
       "    .dataframe tbody tr th {\n",
       "        vertical-align: top;\n",
       "    }\n",
       "\n",
       "    .dataframe thead th {\n",
       "        text-align: right;\n",
       "    }\n",
       "</style>\n",
       "<table border=\"1\" class=\"dataframe\">\n",
       "  <thead>\n",
       "    <tr style=\"text-align: right;\">\n",
       "      <th></th>\n",
       "      <th>id</th>\n",
       "      <th>Strength</th>\n",
       "    </tr>\n",
       "  </thead>\n",
       "  <tbody>\n",
       "    <tr>\n",
       "      <th>0</th>\n",
       "      <td>5407</td>\n",
       "      <td>34.332471</td>\n",
       "    </tr>\n",
       "    <tr>\n",
       "      <th>1</th>\n",
       "      <td>5408</td>\n",
       "      <td>32.431507</td>\n",
       "    </tr>\n",
       "    <tr>\n",
       "      <th>2</th>\n",
       "      <td>5409</td>\n",
       "      <td>33.409805</td>\n",
       "    </tr>\n",
       "    <tr>\n",
       "      <th>3</th>\n",
       "      <td>5410</td>\n",
       "      <td>37.763826</td>\n",
       "    </tr>\n",
       "    <tr>\n",
       "      <th>4</th>\n",
       "      <td>5411</td>\n",
       "      <td>32.977793</td>\n",
       "    </tr>\n",
       "  </tbody>\n",
       "</table>\n",
       "</div>"
      ],
      "text/plain": [
       "     id   Strength\n",
       "0  5407  34.332471\n",
       "1  5408  32.431507\n",
       "2  5409  33.409805\n",
       "3  5410  37.763826\n",
       "4  5411  32.977793"
      ]
     },
     "execution_count": 15,
     "metadata": {},
     "output_type": "execute_result"
    }
   ],
   "source": [
    "pred = pd.DataFrame({'id':ID,'Strength':y_pred}) #Creating prediction dataset\n",
    "pred.head()"
   ]
  },
  {
   "cell_type": "code",
   "execution_count": 17,
   "id": "2023956e",
   "metadata": {},
   "outputs": [],
   "source": [
    "pred.to_csv('ConcretePrediction.csv',index=False) #Submission csv"
   ]
  }
 ],
 "metadata": {
  "kernelspec": {
   "display_name": "Python 3 (ipykernel)",
   "language": "python",
   "name": "python3"
  },
  "language_info": {
   "codemirror_mode": {
    "name": "ipython",
    "version": 3
   },
   "file_extension": ".py",
   "mimetype": "text/x-python",
   "name": "python",
   "nbconvert_exporter": "python",
   "pygments_lexer": "ipython3",
   "version": "3.9.12"
  }
 },
 "nbformat": 4,
 "nbformat_minor": 5
}
